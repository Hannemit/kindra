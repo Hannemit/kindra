{
 "cells": [
  {
   "cell_type": "code",
   "execution_count": 4,
   "id": "3d280798-91d7-4cad-8ec0-63e857d9add6",
   "metadata": {},
   "outputs": [
    {
     "data": {
      "text/plain": [
       "False"
      ]
     },
     "execution_count": 4,
     "metadata": {},
     "output_type": "execute_result"
    }
   ],
   "source": [
    "from kindra import kindle, constants\n",
    "import polars as pl \n",
    "from polars import col \n",
    "import os\n",
    "from dotenv import load_dotenv\n",
    "\n",
    "load_dotenv()"
   ]
  },
  {
   "cell_type": "code",
   "execution_count": 2,
   "id": "5575d8c6-e274-47dd-a61b-a6b5f7996da8",
   "metadata": {},
   "outputs": [],
   "source": [
    "os.getenv(\"KINDLE_VOCAB_PATH\")"
   ]
  },
  {
   "cell_type": "code",
   "execution_count": 3,
   "id": "77e32ea3-a5a7-4684-bda5-6afdc8e14fd5",
   "metadata": {},
   "outputs": [
    {
     "ename": "OperationalError",
     "evalue": "unable to open database file",
     "output_type": "error",
     "traceback": [
      "\u001b[31m---------------------------------------------------------------------------\u001b[39m",
      "\u001b[31mOperationalError\u001b[39m                          Traceback (most recent call last)",
      "\u001b[36mCell\u001b[39m\u001b[36m \u001b[39m\u001b[32mIn[3]\u001b[39m\u001b[32m, line 1\u001b[39m\n\u001b[32m----> \u001b[39m\u001b[32m1\u001b[39m info = \u001b[43mkindle\u001b[49m\u001b[43m.\u001b[49m\u001b[43mquery_db\u001b[49m\u001b[43m(\u001b[49m\u001b[33;43m\"\u001b[39;49m\u001b[33;43mselect * from BOOK_INFO\u001b[39;49m\u001b[33;43m\"\u001b[39;49m\u001b[43m)\u001b[49m\n",
      "\u001b[36mFile \u001b[39m\u001b[32m~/git/kindra/src/kindra/kindle.py:13\u001b[39m, in \u001b[36mquery_db\u001b[39m\u001b[34m(query)\u001b[39m\n\u001b[32m     12\u001b[39m \u001b[38;5;28;01mdef\u001b[39;00m\u001b[38;5;250m \u001b[39m\u001b[34mquery_db\u001b[39m(query: \u001b[38;5;28mstr\u001b[39m) -> pl.DataFrame:\n\u001b[32m---> \u001b[39m\u001b[32m13\u001b[39m     conn = \u001b[43msqlite3\u001b[49m\u001b[43m.\u001b[49m\u001b[43mconnect\u001b[49m\u001b[43m(\u001b[49m\u001b[33;43mf\u001b[39;49m\u001b[33;43m\"\u001b[39;49m\u001b[38;5;132;43;01m{\u001b[39;49;00m\u001b[43mos\u001b[49m\u001b[43m.\u001b[49m\u001b[43mgetenv\u001b[49m\u001b[43m(\u001b[49m\u001b[33;43m'\u001b[39;49m\u001b[33;43mKINDLE_VOCAB_PATH\u001b[39;49m\u001b[33;43m'\u001b[39;49m\u001b[43m)\u001b[49m\u001b[38;5;132;43;01m}\u001b[39;49;00m\u001b[33;43m/vocab.db\u001b[39;49m\u001b[33;43m\"\u001b[39;49m\u001b[43m)\u001b[49m\n\u001b[32m     14\u001b[39m     \u001b[38;5;28;01mreturn\u001b[39;00m pl.read_database(query=query, connection=conn)\n",
      "\u001b[31mOperationalError\u001b[39m: unable to open database file"
     ]
    }
   ],
   "source": [
    "info = kindle.query_db(\"select * from BOOK_INFO\")"
   ]
  },
  {
   "cell_type": "code",
   "execution_count": null,
   "id": "204f157c-e70f-42b6-a0c1-0d9675572285",
   "metadata": {},
   "outputs": [],
   "source": []
  }
 ],
 "metadata": {
  "kernelspec": {
   "display_name": "Python 3 (ipykernel)",
   "language": "python",
   "name": "python3"
  },
  "language_info": {
   "codemirror_mode": {
    "name": "ipython",
    "version": 3
   },
   "file_extension": ".py",
   "mimetype": "text/x-python",
   "name": "python",
   "nbconvert_exporter": "python",
   "pygments_lexer": "ipython3",
   "version": "3.12.10"
  }
 },
 "nbformat": 4,
 "nbformat_minor": 5
}
