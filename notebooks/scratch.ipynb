{
 "cells": [
  {
   "cell_type": "code",
   "execution_count": 1,
   "id": "3d280798-91d7-4cad-8ec0-63e857d9add6",
   "metadata": {},
   "outputs": [],
   "source": [
    "from kindra import kindle, constants\n",
    "import polars as pl \n",
    "from polars import col \n",
    "import os\n",
    "# from dotenv import load_dotenv\n",
    "\n",
    "# load_dotenv()"
   ]
  },
  {
   "cell_type": "code",
   "execution_count": null,
   "id": "6ca3dd66-fb71-44f5-bb40-a85f29876d89",
   "metadata": {},
   "outputs": [],
   "source": [
    "# what about joining on timestamp? could join words and lookup that way. \n",
    "# no, this doesn't work. "
   ]
  },
  {
   "cell_type": "code",
   "execution_count": null,
   "id": "abe87fc3-5092-4766-b286-03f79fcca5a7",
   "metadata": {},
   "outputs": [],
   "source": []
  },
  {
   "cell_type": "code",
   "execution_count": null,
   "id": "29e4040f-6bf6-4477-bf9e-4a92f1ff669c",
   "metadata": {},
   "outputs": [],
   "source": []
  },
  {
   "cell_type": "code",
   "execution_count": 17,
   "id": "77e32ea3-a5a7-4684-bda5-6afdc8e14fd5",
   "metadata": {},
   "outputs": [],
   "source": [
    "info = kindle.query_db(\"select * from BOOK_INFO\")\n",
    "words = kindle.query_db(\"select * from WORDS\")\n",
    "lookup = kindle.query_db(\"select * from LOOKUPS\").drop(\"id\")"
   ]
  },
  {
   "cell_type": "code",
   "execution_count": 18,
   "id": "204f157c-e70f-42b6-a0c1-0d9675572285",
   "metadata": {},
   "outputs": [
    {
     "data": {
      "text/plain": [
       "['id', 'asin', 'guid', 'lang', 'title', 'authors']"
      ]
     },
     "execution_count": 18,
     "metadata": {},
     "output_type": "execute_result"
    }
   ],
   "source": [
    "info.columns"
   ]
  },
  {
   "cell_type": "code",
   "execution_count": 19,
   "id": "f5dbe1d8-39ec-4156-a198-cb9c7cfe108f",
   "metadata": {},
   "outputs": [
    {
     "data": {
      "text/plain": [
       "['id', 'word', 'stem', 'lang', 'category', 'timestamp', 'profileid']"
      ]
     },
     "execution_count": 19,
     "metadata": {},
     "output_type": "execute_result"
    }
   ],
   "source": [
    "words.columns"
   ]
  },
  {
   "cell_type": "code",
   "execution_count": 20,
   "id": "2dddb425-2f7f-4e4d-8ea5-e673c298480a",
   "metadata": {},
   "outputs": [
    {
     "data": {
      "text/plain": [
       "['word_key', 'book_key', 'dict_key', 'pos', 'usage', 'timestamp']"
      ]
     },
     "execution_count": 20,
     "metadata": {},
     "output_type": "execute_result"
    }
   ],
   "source": [
    "lookup.columns"
   ]
  },
  {
   "cell_type": "code",
   "execution_count": 23,
   "id": "023ad779-95f2-4c58-a161-65fd30e25f07",
   "metadata": {},
   "outputs": [
    {
     "data": {
      "text/html": [
       "<div><style>\n",
       ".dataframe > thead > tr,\n",
       ".dataframe > tbody > tr {\n",
       "  text-align: right;\n",
       "  white-space: pre-wrap;\n",
       "}\n",
       "</style>\n",
       "<small>shape: (5, 7)</small><table border=\"1\" class=\"dataframe\"><thead><tr><th>id</th><th>word</th><th>stem</th><th>lang</th><th>category</th><th>timestamp</th><th>profileid</th></tr><tr><td>str</td><td>str</td><td>str</td><td>str</td><td>i64</td><td>i64</td><td>str</td></tr></thead><tbody><tr><td>&quot;fr:règles&quot;</td><td>&quot;règles&quot;</td><td>&quot;règle&quot;</td><td>&quot;fr&quot;</td><td>0</td><td>1677623350236</td><td>&quot;&quot;</td></tr><tr><td>&quot;fr:privées&quot;</td><td>&quot;privées&quot;</td><td>&quot;privé&quot;</td><td>&quot;fr&quot;</td><td>0</td><td>1677623396944</td><td>&quot;&quot;</td></tr><tr><td>&quot;fr:fouet&quot;</td><td>&quot;fouet&quot;</td><td>&quot;fouet&quot;</td><td>&quot;fr&quot;</td><td>0</td><td>1677623430942</td><td>&quot;&quot;</td></tr><tr><td>&quot;fr:éclairage&quot;</td><td>&quot;éclairage&quot;</td><td>&quot;éclairage&quot;</td><td>&quot;fr&quot;</td><td>0</td><td>1677623467371</td><td>&quot;&quot;</td></tr><tr><td>&quot;fr:rébarbative&quot;</td><td>&quot;rébarbative&quot;</td><td>&quot;rébarbatif&quot;</td><td>&quot;fr&quot;</td><td>0</td><td>1677623634277</td><td>&quot;&quot;</td></tr></tbody></table></div>"
      ],
      "text/plain": [
       "shape: (5, 7)\n",
       "┌────────────────┬─────────────┬────────────┬──────┬──────────┬───────────────┬───────────┐\n",
       "│ id             ┆ word        ┆ stem       ┆ lang ┆ category ┆ timestamp     ┆ profileid │\n",
       "│ ---            ┆ ---         ┆ ---        ┆ ---  ┆ ---      ┆ ---           ┆ ---       │\n",
       "│ str            ┆ str         ┆ str        ┆ str  ┆ i64      ┆ i64           ┆ str       │\n",
       "╞════════════════╪═════════════╪════════════╪══════╪══════════╪═══════════════╪═══════════╡\n",
       "│ fr:règles      ┆ règles      ┆ règle      ┆ fr   ┆ 0        ┆ 1677623350236 ┆           │\n",
       "│ fr:privées     ┆ privées     ┆ privé      ┆ fr   ┆ 0        ┆ 1677623396944 ┆           │\n",
       "│ fr:fouet       ┆ fouet       ┆ fouet      ┆ fr   ┆ 0        ┆ 1677623430942 ┆           │\n",
       "│ fr:éclairage   ┆ éclairage   ┆ éclairage  ┆ fr   ┆ 0        ┆ 1677623467371 ┆           │\n",
       "│ fr:rébarbative ┆ rébarbative ┆ rébarbatif ┆ fr   ┆ 0        ┆ 1677623634277 ┆           │\n",
       "└────────────────┴─────────────┴────────────┴──────┴──────────┴───────────────┴───────────┘"
      ]
     },
     "execution_count": 23,
     "metadata": {},
     "output_type": "execute_result"
    }
   ],
   "source": [
    "words.head()"
   ]
  },
  {
   "cell_type": "code",
   "execution_count": 28,
   "id": "a4440af1-48c8-4929-a0f6-80957651deaf",
   "metadata": {},
   "outputs": [],
   "source": [
    "bla = info.select([\"id\", \"title\"]\n",
    "    ).join(lookup, left_on=\"id\", right_on=\"book_key\"\n",
    "    ).join(words.drop(\"timestamp\"), left_on=\"word_key\", right_on=\"id\"\n",
    "    )"
   ]
  },
  {
   "cell_type": "code",
   "execution_count": 29,
   "id": "0b1f253e-c7d5-454b-a34e-6f03e48b27e0",
   "metadata": {},
   "outputs": [
    {
     "data": {
      "text/plain": [
       "['id',\n",
       " 'title',\n",
       " 'word_key',\n",
       " 'dict_key',\n",
       " 'pos',\n",
       " 'usage',\n",
       " 'timestamp',\n",
       " 'word',\n",
       " 'stem',\n",
       " 'lang',\n",
       " 'category',\n",
       " 'profileid']"
      ]
     },
     "execution_count": 29,
     "metadata": {},
     "output_type": "execute_result"
    }
   ],
   "source": [
    "bla.columns"
   ]
  },
  {
   "cell_type": "code",
   "execution_count": null,
   "id": "39518aba-0586-4f9a-80f0-f690ac2d5ab7",
   "metadata": {},
   "outputs": [],
   "source": []
  },
  {
   "cell_type": "code",
   "execution_count": 14,
   "id": "7286f80b-f5c0-41aa-ba52-2e3fc363f399",
   "metadata": {},
   "outputs": [
    {
     "name": "stdout",
     "output_type": "stream",
     "text": [
      "Rows: 0\n",
      "Columns: 7\n",
      "$ id        <str> \n",
      "$ word_key  <str> \n",
      "$ book_key  <str> \n",
      "$ dict_key  <str> \n",
      "$ pos       <str> \n",
      "$ usage     <str> \n",
      "$ timestamp <i64> \n",
      "\n"
     ]
    }
   ],
   "source": [
    "lookup.filter(col.id == col.book_key).glimpse()\n"
   ]
  },
  {
   "cell_type": "code",
   "execution_count": 13,
   "id": "46279621-b05a-49e1-b007-3c7c3e134d97",
   "metadata": {},
   "outputs": [
    {
     "name": "stdout",
     "output_type": "stream",
     "text": [
      "Rows: 2309\n",
      "Columns: 7\n",
      "$ id        <str> 'CR!SF1BCTR3G51RB371QMV99NB47P8E:AWUAAAC/CgAA:39898:9', 'CR!SF1BCTR3G51RB371QMV99NB47P8E:AWYAAAA/AAAA:40112:10', 'CR!SF1BCTR3G51RB371QMV99NB47P8E:AWYAAACNAQAA:40446:8', 'CR!SF1BCTR3G51RB371QMV99NB47P8E:AWYAAABYAgAA:40649:12', 'CR!SF1BCTR3G51RB371QMV99NB47P8E:AWgAAAAyAAAA:41290:14', 'CR!SF1BCTR3G51RB371QMV99NB47P8E:AXUAAAAPAAAA:42717:9', 'CR!SF1BCTR3G51RB371QMV99NB47P8E:AXYAAAA+AAAA:42996:10', 'CR!SF1BCTR3G51RB371QMV99NB47P8E:AYsAAAACAAAA:46968:8', 'CR!SF1BCTR3G51RB371QMV99NB47P8E:AZMAAACdAwAA:50142:13', 'CR!SF1BCTR3G51RB371QMV99NB47P8E:AZgAAABhAQAA:51544:11'\n",
      "$ word_key  <str> 'fr:règles', 'fr:privées', 'fr:fouet', 'fr:éclairage', 'fr:rébarbative', 'fr:saurai', 'fr:tressés', 'fr:Jadis', 'fr:bousculade', 'fr:bouchées'\n",
      "$ book_key  <str> 'CR!SF1BCTR3G51RB371QMV99NB47P8E', 'CR!SF1BCTR3G51RB371QMV99NB47P8E', 'CR!SF1BCTR3G51RB371QMV99NB47P8E', 'CR!SF1BCTR3G51RB371QMV99NB47P8E', 'CR!SF1BCTR3G51RB371QMV99NB47P8E', 'CR!SF1BCTR3G51RB371QMV99NB47P8E', 'CR!SF1BCTR3G51RB371QMV99NB47P8E', 'CR!SF1BCTR3G51RB371QMV99NB47P8E', 'CR!SF1BCTR3G51RB371QMV99NB47P8E', 'CR!SF1BCTR3G51RB371QMV99NB47P8E'\n",
      "$ dict_key  <str> 'B00NM4BNTS', 'B00NM4BNTS', 'B00NM4BNTS', 'B00NM4BNTS', 'B00NM4BNTS', 'B00NM4BNTS', 'B00NM4BNTS', 'B00NM4BNTS', 'B00NM4BNTS', 'B00NM4BNTS'\n",
      "$ pos       <str> 'AWUAAAC/CgAA:39898', 'AWYAAAA/AAAA:40112', 'AWYAAACNAQAA:40446', 'AWYAAABYAgAA:40649', 'AWgAAAAyAAAA:41290', 'AXUAAAAPAAAA:42717', 'AXYAAAA+AAAA:42996', 'AYsAAAACAAAA:46968', 'AZMAAACdAwAA:50142', 'AZgAAABhAQAA:51544'\n",
      "$ usage     <str> \"Les moindres débris de tissu étaient soigneusement rassemblés, elles s'en servaient pour les règles, puis les lavaient longuement à l'eau claire car nous ne recevions que très peu de savon, noir et liquide, qui était réservé aux soins du corps. \", \"Cette absence presque complète d'activité physique nous aurait privées de toute force, et nous nous astreignions à faire tous les jours un peu de gymnastique, ce qui était la chose la plus effroyablement ennuyeuse du monde, mais même moi je m'y soumettais car je comprenais que c'était nécessaire. \", \"Il arriva une ou deux fois qu'une femme fût malade\\xa0: un thermomètre était joint aux provisions, le fouet faisait comprendre qu'elle devait prendre sa température, et il venait des médicaments si elle avait de la fièvre. \", \"Mais, avec la nourriture, l'éclairage et le chauffage constant, nous devions coûter cher à quelqu'un ou à quelque chose, et nous ne savions pas pourquoi on se donnait toute cette peine. \", 'Je rejoignis Théa qui avait toujours été la moins rébarbative envers moi. ', \"Tu n'en sais pas plus que moi, ni qu'aucune d'entre nous. — Non, mais je saurai ce que tu en penses, tu sauras ce que j'en pense, peut-être cela fera-t-il naître une nouvelle idée, et puis nous aurons l'impression de nous comporter comme des êtres humains et pas des automates à répétition. \", \"Elle déposa le bout de tissu qu'elle cousait avec des cheveux tressés et croisa les mains sur les genoux. — Quand tu es assise, seule et les yeux fermés, c'est cela que tu fais, tu réfléchis sur nous\\xa0? — Je fais ce qui me plaît, ne cherche pas à m'arracher des confidences, je ne suis pas une fille distraite qu'on prend par surprise. \", \"Nous pensions que les gardes marchaient machinalement, en se fiant à notre immobilité\\xa0: mais ils continuent à nous surveiller si attentivement, si constamment qu'ils ont compris, les fouets ont claqué. — Ils ne nous touchent jamais. — Jadis, ils l'ont fait, il y a eu des blessures, qui guérissaient très lentement. \", \"Je rassemblais le peu de chose que j'avais entendu dire sur la catastrophe, cela tenait en quelques mots\\xa0: des cris, la bousculade, la nuit et une épouvante grandissante. \", \"Tu t'es approchée de la nourriture au moment des repas, tu as accepté quelques bouchées. \"\n",
      "$ timestamp <i64> 1677623350330, 1677623397009, 1677623431007, 1677623467424, 1677623634330, 1677623800855, 1677623848676, 1677625364862, 1677625758260, 1677625923792\n",
      "\n"
     ]
    }
   ],
   "source": [
    "lookup.filter(col.id != col.book_key).glimpse()"
   ]
  },
  {
   "cell_type": "code",
   "execution_count": 10,
   "id": "536e41a8-7ac2-4dd3-a18c-e1b583d6ffdd",
   "metadata": {},
   "outputs": [
    {
     "data": {
      "text/html": [
       "<div><style>\n",
       ".dataframe > thead > tr,\n",
       ".dataframe > tbody > tr {\n",
       "  text-align: right;\n",
       "  white-space: pre-wrap;\n",
       "}\n",
       "</style>\n",
       "<small>shape: (5, 7)</small><table border=\"1\" class=\"dataframe\"><thead><tr><th>id</th><th>word_key</th><th>book_key</th><th>dict_key</th><th>pos</th><th>usage</th><th>timestamp</th></tr><tr><td>str</td><td>str</td><td>str</td><td>str</td><td>str</td><td>str</td><td>i64</td></tr></thead><tbody><tr><td>&quot;CR!SF1BCTR3G51RB371QMV99NB47P8…</td><td>&quot;fr:règles&quot;</td><td>&quot;CR!SF1BCTR3G51RB371QMV99NB47P8…</td><td>&quot;B00NM4BNTS&quot;</td><td>&quot;AWUAAAC/CgAA:39898&quot;</td><td>&quot;Les moindres débris de tissu é…</td><td>1677623350330</td></tr><tr><td>&quot;CR!SF1BCTR3G51RB371QMV99NB47P8…</td><td>&quot;fr:privées&quot;</td><td>&quot;CR!SF1BCTR3G51RB371QMV99NB47P8…</td><td>&quot;B00NM4BNTS&quot;</td><td>&quot;AWYAAAA/AAAA:40112&quot;</td><td>&quot;Cette absence presque complète…</td><td>1677623397009</td></tr><tr><td>&quot;CR!SF1BCTR3G51RB371QMV99NB47P8…</td><td>&quot;fr:fouet&quot;</td><td>&quot;CR!SF1BCTR3G51RB371QMV99NB47P8…</td><td>&quot;B00NM4BNTS&quot;</td><td>&quot;AWYAAACNAQAA:40446&quot;</td><td>&quot;Il arriva une ou deux fois qu&#x27;…</td><td>1677623431007</td></tr><tr><td>&quot;CR!SF1BCTR3G51RB371QMV99NB47P8…</td><td>&quot;fr:éclairage&quot;</td><td>&quot;CR!SF1BCTR3G51RB371QMV99NB47P8…</td><td>&quot;B00NM4BNTS&quot;</td><td>&quot;AWYAAABYAgAA:40649&quot;</td><td>&quot;Mais, avec la nourriture, l&#x27;éc…</td><td>1677623467424</td></tr><tr><td>&quot;CR!SF1BCTR3G51RB371QMV99NB47P8…</td><td>&quot;fr:rébarbative&quot;</td><td>&quot;CR!SF1BCTR3G51RB371QMV99NB47P8…</td><td>&quot;B00NM4BNTS&quot;</td><td>&quot;AWgAAAAyAAAA:41290&quot;</td><td>&quot;Je rejoignis Théa qui avait to…</td><td>1677623634330</td></tr></tbody></table></div>"
      ],
      "text/plain": [
       "shape: (5, 7)\n",
       "┌──────────────┬──────────────┬─────────────┬────────────┬─────────────┬─────────────┬─────────────┐\n",
       "│ id           ┆ word_key     ┆ book_key    ┆ dict_key   ┆ pos         ┆ usage       ┆ timestamp   │\n",
       "│ ---          ┆ ---          ┆ ---         ┆ ---        ┆ ---         ┆ ---         ┆ ---         │\n",
       "│ str          ┆ str          ┆ str         ┆ str        ┆ str         ┆ str         ┆ i64         │\n",
       "╞══════════════╪══════════════╪═════════════╪════════════╪═════════════╪═════════════╪═════════════╡\n",
       "│ CR!SF1BCTR3G ┆ fr:règles    ┆ CR!SF1BCTR3 ┆ B00NM4BNTS ┆ AWUAAAC/CgA ┆ Les         ┆ 16776233503 │\n",
       "│ 51RB371QMV99 ┆              ┆ G51RB371QMV ┆            ┆ A:39898     ┆ moindres    ┆ 30          │\n",
       "│ NB47P8…      ┆              ┆ 99NB47P8…   ┆            ┆             ┆ débris de   ┆             │\n",
       "│              ┆              ┆             ┆            ┆             ┆ tissu é…    ┆             │\n",
       "│ CR!SF1BCTR3G ┆ fr:privées   ┆ CR!SF1BCTR3 ┆ B00NM4BNTS ┆ AWYAAAA/AAA ┆ Cette       ┆ 16776233970 │\n",
       "│ 51RB371QMV99 ┆              ┆ G51RB371QMV ┆            ┆ A:40112     ┆ absence     ┆ 09          │\n",
       "│ NB47P8…      ┆              ┆ 99NB47P8…   ┆            ┆             ┆ presque     ┆             │\n",
       "│              ┆              ┆             ┆            ┆             ┆ complète…   ┆             │\n",
       "│ CR!SF1BCTR3G ┆ fr:fouet     ┆ CR!SF1BCTR3 ┆ B00NM4BNTS ┆ AWYAAACNAQA ┆ Il arriva   ┆ 16776234310 │\n",
       "│ 51RB371QMV99 ┆              ┆ G51RB371QMV ┆            ┆ A:40446     ┆ une ou deux ┆ 07          │\n",
       "│ NB47P8…      ┆              ┆ 99NB47P8…   ┆            ┆             ┆ fois qu'…   ┆             │\n",
       "│ CR!SF1BCTR3G ┆ fr:éclairage ┆ CR!SF1BCTR3 ┆ B00NM4BNTS ┆ AWYAAABYAgA ┆ Mais, avec  ┆ 16776234674 │\n",
       "│ 51RB371QMV99 ┆              ┆ G51RB371QMV ┆            ┆ A:40649     ┆ la          ┆ 24          │\n",
       "│ NB47P8…      ┆              ┆ 99NB47P8…   ┆            ┆             ┆ nourriture, ┆             │\n",
       "│              ┆              ┆             ┆            ┆             ┆ l'éc…       ┆             │\n",
       "│ CR!SF1BCTR3G ┆ fr:rébarbati ┆ CR!SF1BCTR3 ┆ B00NM4BNTS ┆ AWgAAAAyAAA ┆ Je          ┆ 16776236343 │\n",
       "│ 51RB371QMV99 ┆ ve           ┆ G51RB371QMV ┆            ┆ A:41290     ┆ rejoignis   ┆ 30          │\n",
       "│ NB47P8…      ┆              ┆ 99NB47P8…   ┆            ┆             ┆ Théa qui    ┆             │\n",
       "│              ┆              ┆             ┆            ┆             ┆ avait to…   ┆             │\n",
       "└──────────────┴──────────────┴─────────────┴────────────┴─────────────┴─────────────┴─────────────┘"
      ]
     },
     "execution_count": 10,
     "metadata": {},
     "output_type": "execute_result"
    }
   ],
   "source": [
    "lookup.head()"
   ]
  },
  {
   "cell_type": "code",
   "execution_count": null,
   "id": "187a539b-a600-4368-b1c0-eb51cbd86416",
   "metadata": {},
   "outputs": [],
   "source": []
  }
 ],
 "metadata": {
  "kernelspec": {
   "display_name": "Python 3 (ipykernel)",
   "language": "python",
   "name": "python3"
  },
  "language_info": {
   "codemirror_mode": {
    "name": "ipython",
    "version": 3
   },
   "file_extension": ".py",
   "mimetype": "text/x-python",
   "name": "python",
   "nbconvert_exporter": "python",
   "pygments_lexer": "ipython3",
   "version": "3.12.10"
  }
 },
 "nbformat": 4,
 "nbformat_minor": 5
}
